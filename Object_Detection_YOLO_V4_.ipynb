{
  "nbformat": 4,
  "nbformat_minor": 0,
  "metadata": {
    "colab": {
      "name": "Object Detection YOLO V4 .ipynb",
      "provenance": [],
      "collapsed_sections": [],
      "authorship_tag": "ABX9TyMrFlrgazaYoEnc3eswIWBT",
      "include_colab_link": true
    },
    "kernelspec": {
      "name": "python3",
      "display_name": "Python 3"
    },
    "language_info": {
      "name": "python"
    }
  },
  "cells": [
    {
      "cell_type": "markdown",
      "metadata": {
        "id": "view-in-github",
        "colab_type": "text"
      },
      "source": [
        "<a href=\"https://colab.research.google.com/github/RFebrians/object-detection-playground/blob/main/Object_Detection_YOLO_V4_.ipynb\" target=\"_parent\"><img src=\"https://colab.research.google.com/assets/colab-badge.svg\" alt=\"Open In Colab\"/></a>"
      ]
    },
    {
      "cell_type": "markdown",
      "source": [
        "# Running a YOLOv4 Object Detector \n",
        "\n",
        "> Require a GPU Runtime\n"
      ],
      "metadata": {
        "id": "80GhMD4k4rQh"
      }
    },
    {
      "cell_type": "markdown",
      "source": [
        "# Step 2: Cloning the Pre-train Data Set\n",
        "\n",
        "\n",
        "\n",
        "The following cells will clone darknet from AlexeyAB's repository, adjust the Makefile to enable OPENCV and GPU .\n",
        "\n",
        "Do not worry about any warnings when you run the '!make' cell!"
      ],
      "metadata": {
        "id": "dmeUWZjJ47z4"
      }
    },
    {
      "cell_type": "code",
      "execution_count": null,
      "metadata": {
        "id": "LoNUlf3m26kK"
      },
      "outputs": [],
      "source": [
        "!git clone https://github.com/AlexeyAB/darknet"
      ]
    },
    {
      "cell_type": "markdown",
      "source": [
        "or alternative"
      ],
      "metadata": {
        "id": "-QiLpYETA4c_"
      }
    },
    {
      "cell_type": "code",
      "source": [
        "https://github.com/RFebrians/darknet"
      ],
      "metadata": {
        "id": "S6jj5Y8eA7CE"
      },
      "execution_count": null,
      "outputs": []
    },
    {
      "cell_type": "code",
      "source": [
        "# change makefile to have GPU and OPENCV enabled\n",
        "%cd darknet\n",
        "!sed -i 's/OPENCV=0/OPENCV=1/' Makefile\n",
        "!sed -i 's/GPU=0/GPU=1/' Makefile\n",
        "!sed -i 's/CUDNN=0/CUDNN=1/' Makefile\n",
        "!sed -i 's/CUDNN_HALF=0/CUDNN_HALF=1/' Makefile"
      ],
      "metadata": {
        "id": "WNgTayxs5NDD"
      },
      "execution_count": null,
      "outputs": []
    },
    {
      "cell_type": "code",
      "source": [
        "# verify CUDA GPU\n",
        "!/usr/local/cuda/bin/nvcc --version"
      ],
      "metadata": {
        "id": "baZENRC755F4"
      },
      "execution_count": null,
      "outputs": []
    },
    {
      "cell_type": "code",
      "source": [
        "# make darknet (builds darknet so that you can then use the darknet executable file to run or train object detectors)\n",
        "!make"
      ],
      "metadata": {
        "id": "1Ea1zvA35-Lj"
      },
      "execution_count": null,
      "outputs": []
    },
    {
      "cell_type": "markdown",
      "source": [
        "# Step 3: Download pre-trained YOLOv4 weights\n",
        "\n",
        "YOLOv4 has been trained already on the coco dataset which has 80 classes that it can predict. \n",
        "\n",
        "We will grab these pretrained weights so that we can run YOLOv4 on these pretrained classes and get detections."
      ],
      "metadata": {
        "id": "OxvV3iIc6D3E"
      }
    },
    {
      "cell_type": "code",
      "source": [
        "!wget https://github.com/AlexeyAB/darknet/releases/download/darknet_yolo_v3_optimal/yolov4.weights"
      ],
      "metadata": {
        "id": "UEvMjKwc6T71"
      },
      "execution_count": null,
      "outputs": []
    },
    {
      "cell_type": "markdown",
      "source": [
        "# Step 4: Define Helper Functions\n",
        "\n",
        "These three functions are helper functions that will allow you to show the image in your Colab Notebook after running your detections, as well as upload and download images to and from your Cloud VM."
      ],
      "metadata": {
        "id": "yke3eUkh6aCP"
      }
    },
    {
      "cell_type": "code",
      "source": [
        "# define helper functions\n",
        "def imShow(path):\n",
        "  import cv2\n",
        "  import matplotlib.pyplot as plt\n",
        "  %matplotlib inline\n",
        "\n",
        "  image = cv2.imread(path)\n",
        "  height, width = image.shape[:2]\n",
        "  resized_image = cv2.resize(image,(3*width, 3*height), interpolation = cv2.INTER_CUBIC)\n",
        "\n",
        "  fig = plt.gcf()\n",
        "  fig.set_size_inches(18, 10)\n",
        "  plt.axis(\"off\")\n",
        "  plt.imshow(cv2.cvtColor(resized_image, cv2.COLOR_BGR2RGB))\n",
        "  plt.show()\n",
        "\n",
        "# use this to upload files\n",
        "def upload():\n",
        "  from google.colab import files\n",
        "  uploaded = files.upload() \n",
        "  for name, data in uploaded.items():\n",
        "    with open(name, 'wb') as f:\n",
        "      f.write(data)\n",
        "      print ('saved file', name)\n",
        "\n",
        "# use this to download a file  \n",
        "def download(path):\n",
        "  from google.colab import files\n",
        "  files.download(path)"
      ],
      "metadata": {
        "id": "nxe7Hlf06clk"
      },
      "execution_count": null,
      "outputs": []
    },
    {
      "cell_type": "markdown",
      "source": [
        "# Step 5 (TEST SECTION) : Run Your Detections with Darknet and YOLOv4!\n",
        "\n",
        "Darknet is now built and ready to run detections using YOLOv4 in the cloud! You can find out which sorts of classes the pre-trained YOLOv4 weights can detect by clicking here. [COCO CLASSES](http://cocodataset.org/#explore)\n",
        "\n",
        "The object detector can be run using the following command\n",
        "```bash\n",
        "!./darknet detector test <path to .data file> <path to config> <path to weights> <path to image>\n",
        "```\n",
        "Darknet comes with a few images already installed in the darknet/data/ folder.\n",
        "\n",
        "**Note:** After running detections OpenCV can't open the image instantly in the cloud so we must run: \n",
        "```bash\n",
        "imShow('predictions.jpg')\n",
        "```\n",
        "This will output the image with the detections shown. The most recent detections are always saved to 'predictions.jpg'\n",
        "\n",
        "Try out the examples below for yourself!"
      ],
      "metadata": {
        "id": "RnJMD1YQ6nV-"
      }
    },
    {
      "cell_type": "code",
      "source": [
        "# run darknet detection on test images\n",
        "!./darknet detector test cfg/coco.data cfg/yolov4.cfg yolov4.weights data/person.jpg"
      ],
      "metadata": {
        "id": "FTaOSLvY6jDf"
      },
      "execution_count": null,
      "outputs": []
    },
    {
      "cell_type": "code",
      "source": [
        "# show image using our helper function\n",
        "imShow('predictions.jpg')"
      ],
      "metadata": {
        "id": "JVowoXWy7mkt"
      },
      "execution_count": null,
      "outputs": []
    },
    {
      "cell_type": "markdown",
      "source": [
        "# Step 6: Uploading Local or Google Drive Files to Use\n"
      ],
      "metadata": {
        "id": "MLEUP_I37tY1"
      }
    },
    {
      "cell_type": "markdown",
      "source": [
        "### Method 1: Local Files\n",
        "\n",
        "Example\n",
        "```\n",
        "!./darknet detector test cfg/coco.data cfg/yolov4.cfg yolov4.weights ../<your image name>\n",
        "```"
      ],
      "metadata": {
        "id": "DQsizcGf78MU"
      }
    },
    {
      "cell_type": "code",
      "source": [
        "# Upload helper function! \n",
        "%cd ..\n",
        "upload()\n",
        "%cd darknet"
      ],
      "metadata": {
        "id": "-0idBfnW77l2"
      },
      "execution_count": null,
      "outputs": []
    },
    {
      "cell_type": "code",
      "source": [
        "# run darknet with YOLOv4 on your personal image!\n",
        "\n",
        "!./darknet detector test cfg/coco.data cfg/yolov4.cfg yolov4.weights ../IMG-20190825-WA0022.jpg\n",
        "imShow('predictions.jpg')"
      ],
      "metadata": {
        "id": "SxfLU6jV8rX4"
      },
      "execution_count": null,
      "outputs": []
    },
    {
      "cell_type": "markdown",
      "source": [
        "### Method 2 Google Drive"
      ],
      "metadata": {
        "id": "dvnNGAbx8vXM"
      }
    },
    {
      "cell_type": "code",
      "source": [
        "%cd ..\n",
        "from google.colab import drive\n",
        "drive.mount('/content/gdrive')"
      ],
      "metadata": {
        "id": "5WswTKMi8t5J"
      },
      "execution_count": null,
      "outputs": []
    },
    {
      "cell_type": "markdown",
      "source": [
        "# Step 7: Running YOLOv4 on Video \n",
        "\n",
        "You can also run YOLOv4 object detections on video in your Google Colab VM. Follow the cells below to see how to run videos from your local machine or from your Google Drive! "
      ],
      "metadata": {
        "id": "m9OJdC2z9DgV"
      }
    },
    {
      "cell_type": "markdown",
      "source": [
        "\n",
        "## Local Machine Video\n",
        "Here is how to upload video from local machine, run detector and then download video showing detections."
      ],
      "metadata": {
        "id": "Xbu1xyyC9M7b"
      }
    },
    {
      "cell_type": "code",
      "source": [
        "# upload the video \n",
        "upload()"
      ],
      "metadata": {
        "id": "EQGWoyXq9PpV"
      },
      "execution_count": null,
      "outputs": []
    },
    {
      "cell_type": "code",
      "source": [
        "!./darknet detector demo cfg/coco.data cfg/yolov4.cfg yolov4.weights -dont_show nameofvideo.mp4 -i 0 -out_filename results.avi"
      ],
      "metadata": {
        "id": "U6q6ujgW9WLE"
      },
      "execution_count": null,
      "outputs": []
    },
    {
      "cell_type": "code",
      "source": [
        "# download the video with detections shown\n",
        "download('results.avi')"
      ],
      "metadata": {
        "id": "2_JGZUgW9etF"
      },
      "execution_count": null,
      "outputs": []
    },
    {
      "cell_type": "markdown",
      "source": [
        "# Congratulations !\n",
        "\n",
        "Download the output on the left sidebar"
      ],
      "metadata": {
        "id": "6IWTpbWb9scL"
      }
    }
  ]
}