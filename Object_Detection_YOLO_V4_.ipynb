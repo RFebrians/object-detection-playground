{
  "nbformat": 4,
  "nbformat_minor": 0,
  "metadata": {
    "colab": {
      "name": "Object Detection YOLO V4 .ipynb",
      "provenance": [],
      "authorship_tag": "ABX9TyNvGllNLdyVWxk7W2wWx0xh",
      "include_colab_link": true
    },
    "kernelspec": {
      "name": "python3",
      "display_name": "Python 3"
    },
    "language_info": {
      "name": "python"
    }
  },
  "cells": [
    {
      "cell_type": "markdown",
      "metadata": {
        "id": "view-in-github",
        "colab_type": "text"
      },
      "source": [
        "<a href=\"https://colab.research.google.com/github/RFebrians/object-detection-playground/blob/main/Object_Detection_YOLO_V4_.ipynb\" target=\"_parent\"><img src=\"https://colab.research.google.com/assets/colab-badge.svg\" alt=\"Open In Colab\"/></a>"
      ]
    },
    {
      "cell_type": "markdown",
      "source": [
        "# Running a YOLOv4 Object Detector \n",
        "\n",
        "> Require a GPU Runtime\n"
      ],
      "metadata": {
        "id": "80GhMD4k4rQh"
      }
    },
    {
      "cell_type": "markdown",
      "source": [
        "# Step 2: Cloning the Pre-train Data Set\n",
        "\n",
        "\n",
        "\n",
        "The following cells will clone darknet from AlexeyAB's repository, adjust the Makefile to enable OPENCV and GPU .\n",
        "\n",
        "Do not worry about any warnings when you run the '!make' cell!"
      ],
      "metadata": {
        "id": "dmeUWZjJ47z4"
      }
    },
    {
      "cell_type": "code",
      "execution_count": null,
      "metadata": {
        "id": "LoNUlf3m26kK"
      },
      "outputs": [],
      "source": [
        "!git clone https://github.com/AlexeyAB/darknet"
      ]
    },
    {
      "cell_type": "code",
      "source": [
        ""
      ],
      "metadata": {
        "id": "WNgTayxs5NDD"
      },
      "execution_count": null,
      "outputs": []
    }
  ]
}