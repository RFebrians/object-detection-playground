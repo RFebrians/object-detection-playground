{
  "nbformat": 4,
  "nbformat_minor": 0,
  "metadata": {
    "colab": {
      "name": "Customize Dataset.ipynb",
      "provenance": [],
      "authorship_tag": "ABX9TyNytocd5PBTvWjcysjjTnTX",
      "include_colab_link": true
    },
    "kernelspec": {
      "name": "python3",
      "display_name": "Python 3"
    },
    "language_info": {
      "name": "python"
    }
  },
  "cells": [
    {
      "cell_type": "markdown",
      "metadata": {
        "id": "view-in-github",
        "colab_type": "text"
      },
      "source": [
        "<a href=\"https://colab.research.google.com/github/RFebrians/object-detection-playground/blob/main/Customize_Dataset_YoloV4.ipynb\" target=\"_parent\"><img src=\"https://colab.research.google.com/assets/colab-badge.svg\" alt=\"Open In Colab\"/></a>"
      ]
    },
    {
      "cell_type": "markdown",
      "source": [
        "# How to Train Your Own YOLOv4 Custom Object Detector!\n",
        "\n",
        "\n",
        "In order to create a custom YOLOv4 detector we will need the following:\n",
        "\n",
        "*   Labeled Custom Dataset\n",
        "*   Custom .cfg file\n",
        "*   obj.data and obj.names files\n",
        "*   train.txt file (test.txt is optional here as well)"
      ],
      "metadata": {
        "id": "U3I0me_qBaNj"
      }
    },
    {
      "cell_type": "markdown",
      "source": [
        "# Step 1: Gathering and Labeling a Custom Dataset\n",
        "In order to create a custom object detector you need a good dataset of images and labels so that the detector can be efficiently trained to detect objects.\n",
        "\n",
        "This can be done in two ways. through  or through using Google images or creating your own dataset and using an annotation tool to manually draw labels. "
      ],
      "metadata": {
        "id": "ifs6SGcRBkOM"
      }
    },
    {
      "cell_type": "markdown",
      "source": [
        "### Method 1: Using Google's Open Images Dataset (RECOMMENDED)\n",
        "\n",
        "Gathering a dataset from Google's Open Images Dataset and using OIDv4 toolkit to generate labels is easy and time efficient. \n",
        "\n",
        "The dataset contains labeled images for over 600 classes! [Explore the Dataset Here!](https://storage.googleapis.com/openimages/web/index.html)\n"
      ],
      "metadata": {
        "id": "ywh20z9TB6W_"
      }
    },
    {
      "cell_type": "markdown",
      "source": [
        "#### Training Dataset\n",
        "I ran the following commands within the toolkit to create my custom training dataset. I chose to use 1500 images within my dataset but the general rule is the more images the better for higher accuracy of your model. \n",
        "```\n",
        "python main.py downloader --classes 'Vehicle registration plate' --type_csv train --limit 1500\n",
        "```\n",
        "**Note: If you are training a detector for multiple classes add '--multiclasses 1' to the command above to have all your training images saved together in one folder.**\n",
        "\n",
        "This creates a folder with 1500 images of 'Vehicle registration plates' (license plates) for us to train our custom object detector with."
      ],
      "metadata": {
        "id": "Yihjn9y1CCJ0"
      }
    },
    {
      "cell_type": "markdown",
      "source": [
        "#### Validation Dataset (Optional)\n",
        "**Note:** Having a validation dataset is optional but highly recommended.\n",
        "\n",
        "\n",
        "```\n",
        "python main.py downloader --classes 'Vehicle registration plate' --type_csv validation --limit 300\n",
        "```\n",
        "#### Now you have a proper validation dataset to test your custom object detector after training!\n"
      ],
      "metadata": {
        "id": "AkCIqfVTCWru"
      }
    }
  ]
}