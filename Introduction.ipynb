{
  "cells": [
    {
      "cell_type": "markdown",
      "metadata": {
        "id": "view-in-github",
        "colab_type": "text"
      },
      "source": [
        "<a href=\"https://colab.research.google.com/github/RFebrians/object-detection-playground/blob/main/Introduction.ipynb\" target=\"_parent\"><img src=\"https://colab.research.google.com/assets/colab-badge.svg\" alt=\"Open In Colab\"/></a>"
      ]
    },
    {
      "cell_type": "markdown",
      "metadata": {
        "id": "T8KWo5PIw1ig"
      },
      "source": [
        "<center><img src=\"https://github.com/MonashDataFluency/python-web-scraping/blob/master/images/xkcd_python.png?raw=1\"></center>\n",
        "<center>https://xkcd.com/license.html (CC BY-NC 2.5)</center>"
      ]
    },
    {
      "cell_type": "markdown",
      "metadata": {
        "id": "fn1AAMDiw1il"
      },
      "source": [
        "### Jupyter-style notebooks on Google Colaboratory - A quick tour\n",
        "---"
      ]
    },
    {
      "cell_type": "markdown",
      "metadata": {
        "id": "T6Uz2a1mw1iq"
      },
      "source": [
        "Run some code in below "
      ]
    },
    {
      "cell_type": "code",
      "execution_count": null,
      "metadata": {
        "colab": {
          "base_uri": "https://localhost:8080/"
        },
        "id": "6kJxkXOPw1iv",
        "outputId": "4871ab95-5e74-4c9c-b725-1b08ac60e28e"
      },
      "outputs": [
        {
          "name": "stdout",
          "output_type": "stream",
          "text": [
            "Hello world!!\n"
          ]
        }
      ],
      "source": [
        "print(\"Hello world!!\")"
      ]
    },
    {
      "cell_type": "markdown",
      "metadata": {
        "id": "Ug3KEjn2w1jB"
      },
      "source": [
        "4. **Shift-Enter** to run the contents of the cell."
      ]
    },
    {
      "cell_type": "markdown",
      "metadata": {
        "id": "Hg0ascK8w1jF"
      },
      "source": [
        "In this section we will take a quick tour of some of the concepts that will be used for the rest of our web scraping workshop.\n"
      ]
    },
    {
      "cell_type": "markdown",
      "metadata": {
        "id": "CVmdS-2dw1jO"
      },
      "source": [
        "### Dataframes\n",
        "---"
      ]
    },
    {
      "cell_type": "markdown",
      "metadata": {
        "id": "QTxnb3PAw1jU"
      },
      "source": [
        "One of the most powerful data structures in Python is the Pandas `DataFrame`. It allows tabular data, including `csv` (comma seperated values) and `tsv` (tab seperated values), to be processed and manipulated.  \n",
        "\n",
        "People familiar with Excel will no doubt find it intuitive and easy to grasp. Since most `csv` (or `tsv`) has become the de facto standard for sharing datasets both large and small, Pandas dataframe is the way to go."
      ]
    },
    {
      "cell_type": "code",
      "execution_count": null,
      "metadata": {
        "colab": {
          "base_uri": "https://localhost:8080/"
        },
        "id": "OmuDXoB1w1jd",
        "outputId": "749f407d-5a48-4c70-fd3b-382fe1dded13"
      },
      "outputs": [
        {
          "name": "stdout",
          "output_type": "stream",
          "text": [
            "Pandas version : 1.1.5\n"
          ]
        }
      ],
      "source": [
        "import pandas as pd # importing the package and using `pd` as the alias \n",
        "print('Pandas version : {}'.format(pd.__version__))"
      ]
    },
    {
      "cell_type": "markdown",
      "metadata": {
        "id": "JHxLLytfw1ji"
      },
      "source": [
        "Suppose we wanted to create a dataframe as follows,\n",
        "\n",
        "| name | title     |\n",
        "|------|-----------|\n",
        "| sam  | physicist |\n",
        "| rob  | economist |"
      ]
    },
    {
      "cell_type": "markdown",
      "metadata": {
        "id": "RIs159pVw1jm"
      },
      "source": [
        "Let's create a dictionary with the headers as keys and their corresponding values as a list as follows,"
      ]
    },
    {
      "cell_type": "code",
      "execution_count": null,
      "metadata": {
        "colab": {
          "background_save": true
        },
        "id": "GmhtTZtBw1jr"
      },
      "outputs": [],
      "source": [
        "data = {'name': ['sam', 'rob'], 'title': ['physicist', 'economist']}"
      ]
    },
    {
      "cell_type": "markdown",
      "metadata": {
        "id": "IbGM_7Gqw1jv"
      },
      "source": [
        "Converting the same to a dataframe,"
      ]
    },
    {
      "cell_type": "code",
      "execution_count": null,
      "metadata": {
        "id": "EbFrKkLTw1jy"
      },
      "outputs": [],
      "source": [
        "df = pd.DataFrame(data)\n",
        "# Note: converting to markdown for ease of display on site\n",
        "# print(df.to_markdown()) \n",
        "df"
      ]
    },
    {
      "cell_type": "markdown",
      "metadata": {
        "id": "NLZ84BxBw1j2"
      },
      "source": [
        "|    | name   | title     |\n",
        "|---:|:-------|:----------|\n",
        "|  0 | sam    | physicist |\n",
        "|  1 | rob    | economist |\n"
      ]
    },
    {
      "cell_type": "markdown",
      "metadata": {
        "id": "AC1HEutaw1j4"
      },
      "source": [
        "Now lets create a bigger dataframe and learn some useful functions that can be performed on them."
      ]
    },
    {
      "cell_type": "code",
      "execution_count": null,
      "metadata": {
        "id": "7xrKAuFqw1j7"
      },
      "outputs": [],
      "source": [
        "data = {'Name': ['Sam', 'Rob', 'Jack', 'Jill', 'Dave', 'Alex', 'Steve'],\\\n",
        "        'Title': ['Physicist', 'Economist', 'Statistician', 'Data Scientist', 'Designer', 'Architect', 'Doctor'], \\\n",
        "        'Age': [59, 66, 42, 28, 24, 39, 52],\\\n",
        "        'City': ['Melbourne', 'Melbourne', 'Sydney', 'Sydney', 'Melbourne', 'Perth', 'Brisbane'],\\\n",
        "        'University': ['Monash', 'Monash', 'UNSW', 'UTS', 'Uni Mel', 'UWA', 'UQ']}"
      ]
    },
    {
      "cell_type": "code",
      "execution_count": null,
      "metadata": {
        "id": "wGxgTOPBw1j-"
      },
      "outputs": [],
      "source": [
        "df = pd.DataFrame(data)\n",
        "df"
      ]
    },
    {
      "cell_type": "markdown",
      "metadata": {
        "id": "s43BZ01_w1kB"
      },
      "source": [
        "|    | Name   | Title          |   Age | City      | University   |\n",
        "|---:|:-------|:---------------|------:|:----------|:-------------|\n",
        "|  0 | Sam    | Physicist      |    59 | Melbourne | Monash       |\n",
        "|  1 | Rob    | Economist      |    66 | Melbourne | Monash       |\n",
        "|  2 | Jack   | Statistician   |    42 | Sydney    | UNSW         |\n",
        "|  3 | Jill   | Data Scientist |    28 | Sydney    | UTS          |\n",
        "|  4 | Dave   | Designer       |    24 | Melbourne | Uni Mel      |\n",
        "|  5 | Alex   | Architect      |    39 | Perth     | UWA          |\n",
        "|  6 | Steve  | Doctor         |    52 | Brisbane  | UQ           |\n"
      ]
    },
    {
      "cell_type": "markdown",
      "metadata": {
        "id": "qk6_Ij3Mw1kF"
      },
      "source": [
        "We can also take a quick glance at its contents by using :\n",
        "\n",
        "- `df.head()` : To display the first 5 rows\n",
        "\n",
        "- `df.tail()` : To display the last 5 rows"
      ]
    },
    {
      "cell_type": "code",
      "execution_count": null,
      "metadata": {
        "id": "ICl_GXVMw1kH"
      },
      "outputs": [],
      "source": [
        "df.head()"
      ]
    },
    {
      "cell_type": "markdown",
      "metadata": {
        "id": "ND8jvj8Lw1kL"
      },
      "source": [
        "|    | Name   | Title          |   Age | City      | University   |\n",
        "|---:|:-------|:---------------|------:|:----------|:-------------|\n",
        "|  0 | Sam    | Physicist      |    59 | Melbourne | Monash       |\n",
        "|  1 | Rob    | Economist      |    66 | Melbourne | Monash       |\n",
        "|  2 | Jack   | Statistician   |    42 | Sydney    | UNSW         |\n",
        "|  3 | Jill   | Data Scientist |    28 | Sydney    | UTS          |\n",
        "|  4 | Dave   | Designer       |    24 | Melbourne | Uni Mel      |"
      ]
    },
    {
      "cell_type": "code",
      "execution_count": null,
      "metadata": {
        "id": "g0QMwNxbw1kP"
      },
      "outputs": [],
      "source": [
        "df.tail()"
      ]
    },
    {
      "cell_type": "markdown",
      "metadata": {
        "id": "Rasjj4dlw1kS"
      },
      "source": [
        "|    | Name   | Title          |   Age | City      | University   |\n",
        "|---:|:-------|:---------------|------:|:----------|:-------------|\n",
        "|  2 | Jack   | Statistician   |    42 | Sydney    | UNSW         |\n",
        "|  3 | Jill   | Data Scientist |    28 | Sydney    | UTS          |\n",
        "|  4 | Dave   | Designer       |    24 | Melbourne | Uni Mel      |\n",
        "|  5 | Alex   | Architect      |    39 | Perth     | UWA          |\n",
        "|  6 | Steve  | Doctor         |    52 | Brisbane  | UQ           |"
      ]
    },
    {
      "cell_type": "markdown",
      "metadata": {
        "id": "WRTogw27w1kU"
      },
      "source": [
        "Lets say we want to fiter out all the people from `Sydney`."
      ]
    },
    {
      "cell_type": "code",
      "execution_count": null,
      "metadata": {
        "id": "hshxWDtPw1kW"
      },
      "outputs": [],
      "source": [
        "df[df['City'] == 'Sydney']"
      ]
    },
    {
      "cell_type": "markdown",
      "metadata": {
        "id": "cmHZ-gNYw1kX"
      },
      "source": [
        "|    | Name   | Title          |   Age | City   | University   |\n",
        "|---:|:-------|:---------------|------:|:-------|:-------------|\n",
        "|  2 | Jack   | Statistician   |    42 | Sydney | UNSW         |\n",
        "|  3 | Jill   | Data Scientist |    28 | Sydney | UTS          |\n"
      ]
    },
    {
      "cell_type": "markdown",
      "metadata": {
        "id": "yvZAz4bWw1ka"
      },
      "source": [
        "Now, lets say we want to look at all the people in `Melbourne` and in `Monash`. Notice the usage of `()` and `&`."
      ]
    },
    {
      "cell_type": "code",
      "execution_count": null,
      "metadata": {
        "id": "r6oatVD5w1ke"
      },
      "outputs": [],
      "source": [
        "df[(df['City'] == 'Melbourne') & (df['University'] == 'Monash')]"
      ]
    },
    {
      "cell_type": "markdown",
      "metadata": {
        "id": "eQCL4m-pw1kg"
      },
      "source": [
        "|    | Name   | Title     |   Age | City      | University   |\n",
        "|---:|:-------|:----------|------:|:----------|:-------------|\n",
        "|  0 | Sam    | Physicist |    59 | Melbourne | Monash       |\n",
        "|  1 | Rob    | Economist |    66 | Melbourne | Monash       |\n"
      ]
    },
    {
      "cell_type": "markdown",
      "metadata": {
        "id": "EvGN8maOw1ki"
      },
      "source": [
        "#### Challenge\n",
        "---\n",
        "\n",
        "How can we filter people from `Melbourne` and above the Age of `50`?\n",
        "\n",
        "---"
      ]
    },
    {
      "cell_type": "markdown",
      "metadata": {
        "id": "2fW6oOj-w1kl"
      },
      "source": [
        "We can also fetch specific rows based on their indexes as well."
      ]
    },
    {
      "cell_type": "code",
      "execution_count": null,
      "metadata": {
        "id": "5AgrC-QRw1km"
      },
      "outputs": [],
      "source": [
        "df.iloc[1:3]"
      ]
    },
    {
      "cell_type": "markdown",
      "metadata": {
        "id": "U-YD5eJhw1ko"
      },
      "source": [
        "|    | Name   | Title        |   Age | City      | University   |\n",
        "|---:|:-------|:-------------|------:|:----------|:-------------|\n",
        "|  1 | Rob    | Economist    |    66 | Melbourne | Monash       |\n",
        "|  2 | Jack   | Statistician |    42 | Sydney    | UNSW         |\n"
      ]
    },
    {
      "cell_type": "markdown",
      "metadata": {
        "id": "M1tBWVi4w1kq"
      },
      "source": [
        "Lets try changing Jack's age to 43, because today is his Birthday and he has now turned 43."
      ]
    },
    {
      "cell_type": "code",
      "execution_count": null,
      "metadata": {
        "id": "8VFvwRNWw1kv"
      },
      "outputs": [],
      "source": [
        "df.loc[2, 'Age'] = 43"
      ]
    },
    {
      "cell_type": "markdown",
      "metadata": {
        "id": "e6Na50low1k1"
      },
      "source": [
        "The above is just one way to do this. Some of the other ways are as follows:  \n",
        "\n",
        "- `df.at[2, 'Age'] = 43`\n",
        "\n",
        "- `df.loc[df[df['Name'] == 'Jack'].index, 'Age'] = 43`\n",
        "\n",
        "Lets look at the updated data frame."
      ]
    },
    {
      "cell_type": "code",
      "execution_count": null,
      "metadata": {
        "id": "rTcwmcbBw1k3"
      },
      "outputs": [],
      "source": [
        "df"
      ]
    },
    {
      "cell_type": "markdown",
      "metadata": {
        "id": "62DhsCfhw1k5"
      },
      "source": [
        "|    | Name   | Title          |   Age | City      | University   |\n",
        "|---:|:-------|:---------------|------:|:----------|:-------------|\n",
        "|  0 | Sam    | Physicist      |    59 | Melbourne | Monash       |\n",
        "|  1 | Rob    | Economist      |    66 | Melbourne | Monash       |\n",
        "|  2 | Jack   | Statistician   |    43 | Sydney    | UNSW         |\n",
        "|  3 | Jill   | Data Scientist |    28 | Sydney    | UTS          |\n",
        "|  4 | Dave   | Designer       |    24 | Melbourne | Uni Mel      |\n",
        "|  5 | Alex   | Architect      |    39 | Perth     | UWA          |\n",
        "|  6 | Steve  | Doctor         |    52 | Brisbane  | UQ           |"
      ]
    },
    {
      "cell_type": "markdown",
      "metadata": {
        "id": "ILdu-eWfw1lA"
      },
      "source": [
        "For exporting a Pandas dataframe to a `csv` file, we can use `to_csv()` as follows\n",
        "```python\n",
        "df.to_csv(filename, index=False)\n",
        "```\n",
        "\n",
        "Lets try writing our data frame to a file."
      ]
    },
    {
      "cell_type": "code",
      "execution_count": null,
      "metadata": {
        "id": "9RXRf9Qbw1ln"
      },
      "outputs": [],
      "source": [
        "df.to_csv('researchers.csv', index=False)"
      ]
    },
    {
      "cell_type": "markdown",
      "metadata": {
        "id": "5oAEkiQSw1lp"
      },
      "source": [
        "In order to read external files we use `read_csv()` function,\n",
        "```python\n",
        "pd.read_csv(filename, sep=',')\n",
        "```\n",
        "\n",
        "We can read back the file that we just created."
      ]
    },
    {
      "cell_type": "code",
      "execution_count": null,
      "metadata": {
        "id": "xCgCVkEqw1lr"
      },
      "outputs": [],
      "source": [
        "df_res = pd.read_csv('researchers.csv', sep=',')\n",
        "df_res"
      ]
    },
    {
      "cell_type": "markdown",
      "metadata": {
        "id": "EiAF1qbkw1lz"
      },
      "source": [
        "|    | Name   | Title          |   Age | City      | University   |\n",
        "|---:|:-------|:---------------|------:|:----------|:-------------|\n",
        "|  0 | Sam    | Physicist      |    59 | Melbourne | Monash       |\n",
        "|  1 | Rob    | Economist      |    66 | Melbourne | Monash       |\n",
        "|  2 | Jack   | Statistician   |    43 | Sydney    | UNSW         |\n",
        "|  3 | Jill   | Data Scientist |    28 | Sydney    | UTS          |\n",
        "|  4 | Dave   | Designer       |    24 | Melbourne | Uni Mel      |\n",
        "|  5 | Alex   | Architect      |    39 | Perth     | UWA          |\n",
        "|  6 | Steve  | Doctor         |    52 | Brisbane  | UQ           |\n"
      ]
    },
    {
      "cell_type": "markdown",
      "metadata": {
        "id": "FXMbGnUgw1l1"
      },
      "source": [
        "### JSON\n",
        "---"
      ]
    },
    {
      "cell_type": "markdown",
      "metadata": {
        "id": "ECTsV9K8w1l5"
      },
      "source": [
        "JSON stands for *JavaScript Object Notation*.\n",
        "\n",
        "When exchanging data between a browser and a server, the data can only be text.\n",
        "\n",
        "Python has a built-in package called `json`, which can be used to work with JSON data."
      ]
    },
    {
      "cell_type": "code",
      "execution_count": null,
      "metadata": {
        "id": "dDpUa0P3w1l7"
      },
      "outputs": [],
      "source": [
        "import json"
      ]
    },
    {
      "cell_type": "markdown",
      "metadata": {
        "id": "4eObi99-w1l9"
      },
      "source": [
        "Once we imported the library, now lets look at how we can obtain a JSON object from a string (or more accurately a JSON string). This process is also know as deserialization where we convert a string to an object.\n",
        "\n",
        "JSON is a string that can be turned into ('deserialized') a Python dictionary containing just primitive types (floats, strings, bools, lists, dicts and None)."
      ]
    },
    {
      "cell_type": "code",
      "execution_count": null,
      "metadata": {
        "id": "nulczemiw1mD",
        "outputId": "e69e3dcf-c24e-46ea-8ab7-204257a10566"
      },
      "outputs": [
        {
          "name": "stdout",
          "output_type": "stream",
          "text": [
            "30\n"
          ]
        }
      ],
      "source": [
        "# Convert from JSON to Python:\n",
        "\n",
        "# some JSON:\n",
        "x =  '{ \"name\":\"John\", \"age\":30, \"city\":\"New York\"}'\n",
        "\n",
        "# parse x:\n",
        "y = json.loads(x)\n",
        "\n",
        "# the result is a Python dictionary:\n",
        "print(y[\"age\"])"
      ]
    },
    {
      "cell_type": "markdown",
      "metadata": {
        "id": "MYD7bnNMw1mH"
      },
      "source": [
        "Lets take a look at `y` as follows,"
      ]
    },
    {
      "cell_type": "code",
      "execution_count": null,
      "metadata": {
        "id": "g8eE7INmw1mK",
        "outputId": "75a0e2b6-9589-4092-c654-c99808c7b188",
        "scrolled": true
      },
      "outputs": [
        {
          "name": "stdout",
          "output_type": "stream",
          "text": [
            "{\n",
            "    \"name\": \"John\",\n",
            "    \"age\": 30,\n",
            "    \"city\": \"New York\"\n",
            "}\n"
          ]
        }
      ],
      "source": [
        "print(y)"
      ]
    },
    {
      "cell_type": "markdown",
      "metadata": {
        "id": "TY5DYzZKw1mM"
      },
      "source": [
        "We can obtain the exact same JSON string we defined earlier from a Python dictionary as follows,"
      ]
    },
    {
      "cell_type": "code",
      "execution_count": null,
      "metadata": {
        "id": "OdSx0Wg3w1mT",
        "outputId": "99b184a7-be00-4ad1-d967-8427aa630f85"
      },
      "outputs": [
        {
          "name": "stdout",
          "output_type": "stream",
          "text": [
            "{\"name\": \"John\", \"age\": 30, \"city\": \"New York\"}\n"
          ]
        }
      ],
      "source": [
        "# Convert from Python to JSON\n",
        "\n",
        "# a Python object (dict):\n",
        "x = {\n",
        "  \"name\": \"John\",\n",
        "  \"age\": 30,\n",
        "  \"city\": \"New York\"\n",
        "}\n",
        "\n",
        "# convert into JSON:\n",
        "y = json.dumps(x)\n",
        "\n",
        "# the result is a JSON string:\n",
        "print(y)"
      ]
    },
    {
      "cell_type": "markdown",
      "metadata": {
        "id": "0ff_id3Yw1mW"
      },
      "source": [
        "For better formatting we can indent the same as,"
      ]
    },
    {
      "cell_type": "code",
      "execution_count": null,
      "metadata": {
        "id": "37cJbDH8w1mY",
        "outputId": "20e08822-8910-4430-800e-d04af414c6e6",
        "scrolled": true
      },
      "outputs": [
        {
          "name": "stdout",
          "output_type": "stream",
          "text": [
            "{\n",
            "    \"name\": \"John\",\n",
            "    \"age\": 30,\n",
            "    \"city\": \"New York\"\n",
            "}\n"
          ]
        }
      ],
      "source": [
        "# Indentation\n",
        "y = json.dumps(x, indent=4)\n",
        "print(y)\n"
      ]
    },
    {
      "cell_type": "markdown",
      "metadata": {
        "id": "5N42RZ5cw1ma"
      },
      "source": [
        "### Regex\n",
        "---"
      ]
    },
    {
      "cell_type": "markdown",
      "metadata": {
        "id": "bf2QzyvGw1mc"
      },
      "source": [
        "Regular expressions or regex are a powerful tool to extract key pieces of data from raw text.\n",
        "\n",
        "This is a whirlwind tour of regular expressions so you have some familiarity, but becoming proficient will require further study and practise. Regex is deep enough to have a whole workshop of it's own\n",
        "\n",
        "You can try your regex expressions in : \n",
        "\n",
        "- [pythex](https://pythex.org/) for a python oriented regex editor\n",
        "- [regexr](https://regexr.com/) for a more visual explanation behind the expressions (good for getting started)"
      ]
    },
    {
      "cell_type": "code",
      "execution_count": null,
      "metadata": {
        "id": "H-sA0oyVw1me"
      },
      "outputs": [],
      "source": [
        "import re # regex package in python is named 're'"
      ]
    },
    {
      "cell_type": "code",
      "execution_count": null,
      "metadata": {
        "id": "4dwKAMn4w1mh",
        "outputId": "f26b48cc-84ed-410d-f25c-955bd03ac0c4"
      },
      "outputs": [
        {
          "data": {
            "text/plain": [
              "<re.Match object; span=(6, 9), match='123'>"
            ]
          },
          "execution_count": 30,
          "metadata": {},
          "output_type": "execute_result"
        }
      ],
      "source": [
        "my_str = 'python123good'\n",
        "re.search('123', my_str)"
      ]
    },
    {
      "cell_type": "code",
      "execution_count": null,
      "metadata": {
        "id": "mMCMMezDw1mo",
        "outputId": "bfda6570-33ea-4e39-9beb-7303e6c15d40"
      },
      "outputs": [
        {
          "name": "stdout",
          "output_type": "stream",
          "text": [
            "Found\n"
          ]
        }
      ],
      "source": [
        "if re.search('123', my_str):\n",
        "    print(\"Found\")\n",
        "else:\n",
        "    print(\"Not found\")"
      ]
    },
    {
      "cell_type": "markdown",
      "metadata": {
        "id": "lmZUt7Atw1mr"
      },
      "source": [
        "We can use `[0-9]` in the regular expression to identify any one number in the string."
      ]
    },
    {
      "cell_type": "code",
      "execution_count": null,
      "metadata": {
        "id": "YnZXpmUHw1ms",
        "outputId": "14e5c685-a7c1-4893-9689-ceff900f1c2b"
      },
      "outputs": [
        {
          "data": {
            "text/plain": [
              "<re.Match object; span=(6, 7), match='1'>"
            ]
          },
          "execution_count": 32,
          "metadata": {},
          "output_type": "execute_result"
        }
      ],
      "source": [
        "my_str = 'python123good'\n",
        "re.search('[0-9]', my_str)"
      ]
    },
    {
      "cell_type": "markdown",
      "metadata": {
        "id": "A5sPCPBRw1my"
      },
      "source": [
        "Notice that it matches the first occurance only."
      ]
    },
    {
      "cell_type": "markdown",
      "metadata": {
        "id": "FRTFwL77w1m0"
      },
      "source": [
        "Now, the above regex can be modified to match any three numbers in a string."
      ]
    },
    {
      "cell_type": "code",
      "execution_count": null,
      "metadata": {
        "id": "IuT7EIA5w1m2",
        "outputId": "00ed413c-ee8d-4b78-d48c-c252647982e2"
      },
      "outputs": [
        {
          "data": {
            "text/plain": [
              "<re.Match object; span=(6, 9), match='123'>"
            ]
          },
          "execution_count": 33,
          "metadata": {},
          "output_type": "execute_result"
        }
      ],
      "source": [
        "my_str = 'python123good'\n",
        "re.search('[0-9][0-9][0-9]', my_str)"
      ]
    },
    {
      "cell_type": "code",
      "execution_count": null,
      "metadata": {
        "id": "X2TCyVVMw1m5",
        "outputId": "811e8839-1a14-498a-cc57-62de15e4202e"
      },
      "outputs": [
        {
          "name": "stdout",
          "output_type": "stream",
          "text": [
            "<re.Match object; span=(5, 8), match='123'>\n",
            "<re.Match object; span=(5, 8), match='678'>\n",
            "<re.Match object; span=(0, 3), match='012'>\n",
            "<re.Match object; span=(5, 8), match='567'>\n",
            "None\n"
          ]
        }
      ],
      "source": [
        "print(re.search('[0-9][0-9][0-9]','hello123')) # matches 123\n",
        "print(re.search('[0-9][0-9][0-9]','great678python')) # matches 678\n",
        "print(re.search('[0-9][0-9][0-9]','01234webscraing')) # matches 012\n",
        "print(re.search('[0-9][0-9][0-9]','01web5678scraing')) # matches 567\n",
        "print(re.search('[0-9][0-9][0-9]','hello world')) # matches nothing"
      ]
    },
    {
      "cell_type": "markdown",
      "metadata": {
        "id": "TGPxC8Pow1m8"
      },
      "source": [
        "As seen above, it matches the first occurance of three digits occuring together.\n",
        "\n",
        "The above example can be extended to match any number of numbers using the wild character `*` which matches `zero or more repetitions`."
      ]
    },
    {
      "cell_type": "code",
      "execution_count": null,
      "metadata": {
        "id": "Sce2IWl0w1m-",
        "outputId": "554065ea-d16b-4a7e-ae6e-ff34084c8cce"
      },
      "outputs": [
        {
          "name": "stdout",
          "output_type": "stream",
          "text": [
            "<re.Match object; span=(0, 8), match='hello123'>\n"
          ]
        }
      ],
      "source": [
        "print(re.search('[a-z]*[0-9]*','hello123@@')) # matches hello123"
      ]
    },
    {
      "cell_type": "markdown",
      "metadata": {
        "id": "4NFKqy2ew1nA"
      },
      "source": [
        "What if we just want to capture only the numbers? `Capture group` is the answer."
      ]
    },
    {
      "cell_type": "code",
      "execution_count": null,
      "metadata": {
        "id": "O-pgeWD8w1nF",
        "outputId": "8994b5a9-0732-4fa8-c639-409a1b2d9665"
      },
      "outputs": [
        {
          "data": {
            "text/plain": [
              "['123', '']"
            ]
          },
          "execution_count": 36,
          "metadata": {},
          "output_type": "execute_result"
        }
      ],
      "source": [
        "num_regex = re.compile('[a-z]*([0-9]*)[a-z]*')\n",
        "my_str = 'python123good'\n",
        "num_regex.findall(my_str)"
      ]
    },
    {
      "cell_type": "markdown",
      "metadata": {
        "id": "J4fvWxbpw1nI"
      },
      "source": [
        "We see that it matchs an empty string as well because `*` matches zero or more occurances. \n",
        "\n",
        "To avoid this, we can use `+` which matches one or more occurances."
      ]
    },
    {
      "cell_type": "code",
      "execution_count": null,
      "metadata": {
        "id": "ubBdIm5qw1nK",
        "outputId": "03647169-8e0e-4456-9ae5-f1b56bdddea2"
      },
      "outputs": [
        {
          "data": {
            "text/plain": [
              "['123']"
            ]
          },
          "execution_count": 37,
          "metadata": {},
          "output_type": "execute_result"
        }
      ],
      "source": [
        "num_regex = re.compile('[a-z]*([0-9]+)[a-z]*')\n",
        "my_str = 'python123good'\n",
        "num_regex.findall(my_str)"
      ]
    },
    {
      "cell_type": "markdown",
      "metadata": {
        "id": "noACbkwgw1nN"
      },
      "source": [
        "We can use `^` and `$` to match at the beginning and end of string.\n",
        "\n",
        "As shown in the below 2 examples, we use `^` to get the numbers by which the string is starting."
      ]
    },
    {
      "cell_type": "code",
      "execution_count": null,
      "metadata": {
        "id": "L0ELPQ3ow1nO",
        "outputId": "d32be6c7-a502-47ba-a555-f0af0ba4ddae"
      },
      "outputs": [
        {
          "data": {
            "text/plain": [
              "['123']"
            ]
          },
          "execution_count": 38,
          "metadata": {},
          "output_type": "execute_result"
        }
      ],
      "source": [
        "num_regex = re.compile('^([0-9]+)[a-z]*')\n",
        "my_str = '123good'\n",
        "num_regex.findall(my_str)"
      ]
    },
    {
      "cell_type": "code",
      "execution_count": null,
      "metadata": {
        "id": "u9bgsskrw1nR",
        "outputId": "dcfc7e13-6e43-41cb-b73f-eb8b9ea9fa65"
      },
      "outputs": [
        {
          "data": {
            "text/plain": [
              "[]"
            ]
          },
          "execution_count": 39,
          "metadata": {},
          "output_type": "execute_result"
        }
      ],
      "source": [
        "my_str = 'hello123good'\n",
        "num_regex.findall(my_str)"
      ]
    },
    {
      "cell_type": "markdown",
      "metadata": {
        "id": "lzd4us63w1nW"
      },
      "source": [
        "#### Challenge\n",
        "---\n",
        "\n",
        "What regular expression can be used to match the numbers **only** at the end of the string:\n",
        "\n",
        "- `'[a-z]*([0-9]+)[a-z]+'`\n",
        "- `'[a-z]*([0-9]+)$'`\n",
        "- `'$[a-z]*([0-9]+)'`\n",
        "- `'([0-9]+)'`\n",
        "\n",
        "---"
      ]
    },
    {
      "cell_type": "markdown",
      "metadata": {
        "id": "vVCoBNXyw1nZ"
      },
      "source": [
        "Now, having learnt the regular expressions on basic strings, the same concept can be applied to an html as well as shown below:"
      ]
    },
    {
      "cell_type": "code",
      "execution_count": null,
      "metadata": {
        "id": "TRWdWDBbw1na",
        "outputId": "4dca4a52-c1d5-4fe2-c2cf-f3fcb7c040c3"
      },
      "outputs": [
        {
          "name": "stdout",
          "output_type": "stream",
          "text": [
            "\n",
            "         <!DOCTYPE html>\n",
            "        <html>\n",
            "        <head>\n",
            "        <title>site</title>\n",
            "        </head>\n",
            "        <body>\n",
            "\n",
            "        <h1>Sam</h1>\n",
            "        <h2>Physicist</h2>\n",
            "        <p>Lorem ipsum dolor sit amet, consectetur adipiscing elit, sed do eiusmod.</p>\n",
            "\n",
            "        <h1>Rob</h1>\n",
            "        <h2>Economist</h2>\n",
            "        <p>Lorem ipsum dolor sit amet, consectetur adipiscing elit, sed do eiusmod tempor incididunt ut labore et.</p>\n",
            "\n",
            "\n",
            "        </body>\n",
            "        </html> \n",
            "        \n"
          ]
        }
      ],
      "source": [
        "html = r'''\n",
        "         <!DOCTYPE html>\n",
        "        <html>\n",
        "        <head>\n",
        "        <title>site</title>\n",
        "        </head>\n",
        "        <body>\n",
        "\n",
        "        <h1>Sam</h1>\n",
        "        <h2>Physicist</h2>\n",
        "        <p>Lorem ipsum dolor sit amet, consectetur adipiscing elit, sed do eiusmod.</p>\n",
        "\n",
        "        <h1>Rob</h1>\n",
        "        <h2>Economist</h2>\n",
        "        <p>Lorem ipsum dolor sit amet, consectetur adipiscing elit, sed do eiusmod tempor incididunt ut labore et.</p>\n",
        "\n",
        "\n",
        "        </body>\n",
        "        </html> \n",
        "        '''\n",
        "\n",
        "print(html)"
      ]
    },
    {
      "cell_type": "markdown",
      "metadata": {
        "id": "ynBc9buXw1nd"
      },
      "source": [
        "Now, if we are only interested in : \n",
        "- names i.e. the data inside the `<h1></h1>` tags, and\n",
        "- title i.e. the data inside the `<h2></h2>` tags\n",
        "we can extract the same using regex.\n"
      ]
    },
    {
      "cell_type": "markdown",
      "metadata": {
        "id": "knLre-9Gw1ns"
      },
      "source": [
        "Lets define the expressions (or patterns) to capture all text between the tags as follows :\n",
        "\n",
        "- `<h1>(.*?)</h1>` : capture all text contained within `<h1></h1>` tags\n",
        "- `<h2>(.*?)</h2>` : capture all text contained within `<h2></h2>` tags\n",
        "\n"
      ]
    },
    {
      "cell_type": "code",
      "execution_count": null,
      "metadata": {
        "id": "IsH_iS7ow1nu"
      },
      "outputs": [],
      "source": [
        "regex_h1 = re.compile('<h1>(.*?)</h1>')\n",
        "regex_h2 = re.compile('<h2>(.*?)</h2>')"
      ]
    },
    {
      "cell_type": "markdown",
      "metadata": {
        "id": "qp0SvPNfw1nw"
      },
      "source": [
        "and use `findall()` to return all the instances that match with our pattern,"
      ]
    },
    {
      "cell_type": "code",
      "execution_count": null,
      "metadata": {
        "id": "w_sccujPw1ny",
        "outputId": "b33d76c1-3750-46f5-a9a8-8dfc04b8d2b8"
      },
      "outputs": [
        {
          "name": "stdout",
          "output_type": "stream",
          "text": [
            "['Sam', 'Rob'] ['Physicist', 'Economist']\n"
          ]
        }
      ],
      "source": [
        "names = regex_h1.findall(html)\n",
        "titles = regex_h2.findall(html)\n",
        "\n",
        "print(names, titles)"
      ]
    },
    {
      "cell_type": "markdown",
      "metadata": {
        "id": "dQFVk56Nw1n4"
      },
      "source": [
        "### From a web scraping perspective\n",
        "- `JSON` and `XML` are the most widely used formats to carry data all over the internet.\n",
        "- To work with `CSV`s (or `TSV`s), Pandas DataFrames are the de facto standard.\n",
        "- Regexes help us extract key pieces of information (sub-strings) from raw, messy and unstructured text (strings)."
      ]
    },
    {
      "cell_type": "markdown",
      "metadata": {
        "id": "5z9dvGdVw1n6"
      },
      "source": [
        "### References\n",
        "\n",
        "- https://xkcd.com/353/\n",
        "- https://pandas.pydata.org/pandas-docs/stable/reference/api/pandas.DataFrame.html\n",
        "- https://realpython.com/regex-python/"
      ]
    }
  ],
  "metadata": {
    "colab": {
      "name": "Introduction.ipynb",
      "provenance": [],
      "include_colab_link": true
    },
    "kernelspec": {
      "display_name": "Python 3",
      "language": "python",
      "name": "python3"
    },
    "language_info": {
      "codemirror_mode": {
        "name": "ipython",
        "version": 3
      },
      "file_extension": ".py",
      "mimetype": "text/x-python",
      "name": "python",
      "nbconvert_exporter": "python",
      "pygments_lexer": "ipython3",
      "version": "3.8.2"
    }
  },
  "nbformat": 4,
  "nbformat_minor": 0
}