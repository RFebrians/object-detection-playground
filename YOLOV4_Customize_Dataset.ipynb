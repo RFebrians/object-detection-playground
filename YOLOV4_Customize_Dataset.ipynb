{
  "nbformat": 4,
  "nbformat_minor": 0,
  "metadata": {
    "colab": {
      "name": "Customize Dataset.ipynb",
      "provenance": [],
      "authorship_tag": "ABX9TyMqkZopy5dVTJgOA5CydakS",
      "include_colab_link": true
    },
    "kernelspec": {
      "name": "python3",
      "display_name": "Python 3"
    },
    "language_info": {
      "name": "python"
    }
  },
  "cells": [
    {
      "cell_type": "markdown",
      "metadata": {
        "id": "view-in-github",
        "colab_type": "text"
      },
      "source": [
        "<a href=\"https://colab.research.google.com/github/RFebrians/object-detection-playground/blob/main/YOLOV4_Customize_Dataset.ipynb\" target=\"_parent\"><img src=\"https://colab.research.google.com/assets/colab-badge.svg\" alt=\"Open In Colab\"/></a>"
      ]
    },
    {
      "cell_type": "code",
      "execution_count": null,
      "metadata": {
        "id": "F4re5JzD-EU_"
      },
      "outputs": [],
      "source": [
        ""
      ]
    }
  ]
}